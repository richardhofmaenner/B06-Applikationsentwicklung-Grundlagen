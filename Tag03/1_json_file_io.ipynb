{
 "cells": [
  {
   "cell_type": "markdown",
   "metadata": {},
   "source": [
    "# JSON - Dateien lesen und schreiben\n",
    "JavaScrip Object Notation ist ein Text-basiertes Datenformat. Es ist einfacher und kompakter als XML und wird beinahe überall unterstützt. Ein Python ist der resultierende Datentyp ein Dictionary, welches i.d.r. wieder unter-Dictionaries enthält.\n",
    "\n",
    "Weil wir es können, schreiben wir ein JSON-File als normalen Text gerade frisch auf die Platte:"
   ]
  },
  {
   "cell_type": "code",
   "execution_count": 2,
   "metadata": {},
   "outputs": [],
   "source": [
    "json_string = \"\"\"{\n",
    "  \"Herausgeber\": \"Xema\",\n",
    "  \"Nummer\": \"1234-5678-9012-3456\",\n",
    "  \"Deckung\": 2e+6,\n",
    "  \"Waehrung\": \"EURO\",\n",
    "  \"Inhaber\":\n",
    "  {\n",
    "    \"Name\": \"Mustermann\",\n",
    "    \"Vorname\": \"Max\",\n",
    "    \"maennlich\": true,\n",
    "    \"Hobbys\": [\"Reiten\", \"Golfen\", \"Lesen\"],\n",
    "    \"Alter\": 42,\n",
    "    \"Kinder\": [],\n",
    "    \"Partner\": null\n",
    "  }\n",
    "}\"\"\"\n",
    "\n",
    "with open('Data/.2_test.json', 'w') as output_file:\n",
    "    output_file.write(json_string)"
   ]
  },
  {
   "cell_type": "markdown",
   "metadata": {},
   "source": [
    "Das Einlesen einer JSON-Datei erfolgt mit `json.load(file_object)`"
   ]
  },
  {
   "cell_type": "code",
   "execution_count": 3,
   "metadata": {},
   "outputs": [
    {
     "name": "stdout",
     "output_type": "stream",
     "text": [
      "{'Herausgeber': 'Xema', 'Nummer': '1234-5678-9012-3456', 'Deckung': 2000000.0, 'Waehrung': 'EURO', 'Inhaber': {'Name': 'Mustermann', 'Vorname': 'Max', 'maennlich': True, 'Hobbys': ['Reiten', 'Golfen', 'Lesen'], 'Alter': 42, 'Kinder': [], 'Partner': None}}\n"
     ]
    }
   ],
   "source": [
    "import json\n",
    "\n",
    "json_data = None\n",
    "with open('Data/.2_test.json', 'r') as input_file:\n",
    "    json_data = json.load(input_file)\n",
    "\n",
    "print(json_data)"
   ]
  },
  {
   "cell_type": "markdown",
   "metadata": {},
   "source": [
    "Da wir in diesem Beispiel die JSON-Daten bereits in einem String haben, ginge es natürlich auch direkt mit json.load**s**(string), ohne 'Umweg' über eine Datei."
   ]
  },
  {
   "cell_type": "code",
   "execution_count": 4,
   "metadata": {},
   "outputs": [
    {
     "name": "stdout",
     "output_type": "stream",
     "text": [
      "{'Herausgeber': 'Xema', 'Nummer': '1234-5678-9012-3456', 'Deckung': 2000000.0, 'Waehrung': 'EURO', 'Inhaber': {'Name': 'Mustermann', 'Vorname': 'Max', 'maennlich': True, 'Hobbys': ['Reiten', 'Golfen', 'Lesen'], 'Alter': 42, 'Kinder': [], 'Partner': None}}\n"
     ]
    }
   ],
   "source": [
    "json_data = json.loads(json_string)\n",
    "print(json_data)"
   ]
  },
  {
   "cell_type": "markdown",
   "metadata": {},
   "source": [
    "Die Ausgabe von Dictionaries in JSON-Dateien oder in strings erfolgt mit json.dump(dict, file) resp. json.dump**s**(dict)"
   ]
  },
  {
   "cell_type": "code",
   "execution_count": 5,
   "metadata": {},
   "outputs": [
    {
     "name": "stdout",
     "output_type": "stream",
     "text": [
      "Compact: {\"Herausgeber\": \"Xema\", \"Nummer\": \"1234-5678-9012-3456\", \"Deckung\": 2000000.0, \"Waehrung\": \"EURO\", \"Inhaber\": {\"Name\": \"Mustermann\", \"Vorname\": \"Max\", \"maennlich\": true, \"Hobbys\": [\"Reiten\", \"Golfen\", \"Lesen\"], \"Alter\": 42, \"Kinder\": [], \"Partner\": null}}\n",
      "\n",
      "Pretty: \n",
      "{\n",
      "    \"Herausgeber\": \"Xema\",\n",
      "    \"Nummer\": \"1234-5678-9012-3456\",\n",
      "    \"Deckung\": 2000000.0,\n",
      "    \"Waehrung\": \"EURO\",\n",
      "    \"Inhaber\": {\n",
      "        \"Name\": \"Mustermann\",\n",
      "        \"Vorname\": \"Max\",\n",
      "        \"maennlich\": true,\n",
      "        \"Hobbys\": [\n",
      "            \"Reiten\",\n",
      "            \"Golfen\",\n",
      "            \"Lesen\"\n",
      "        ],\n",
      "        \"Alter\": 42,\n",
      "        \"Kinder\": [],\n",
      "        \"Partner\": null\n",
      "    }\n",
      "}\n"
     ]
    }
   ],
   "source": [
    "with open('Data/.2_output.json', 'w') as output_file:\n",
    "    json.dump(json_data, output_file, indent=4)\n",
    "\n",
    "json_string_compact = json.dumps(json_data)\n",
    "json_string_pretty = json.dumps(json_data, indent=4)\n",
    "print(f\"Compact: {json_string_compact}\")\n",
    "print(f\"\\nPretty: \\n{json_string_pretty}\")"
   ]
  },
  {
   "cell_type": "markdown",
   "metadata": {},
   "source": [
    "*indent=4* sorgt dafür, dass die Ausgabe Zeilenumbrüche erhält und so besser lesbar für Menschen wird. Wenn JSON nur dazu verwendet wird, Daten zu persistieren oder zwischen Maschinen auszutauschen, kann darauf verzichtet werden."
   ]
  }
 ],
 "metadata": {
  "kernelspec": {
   "display_name": "Python 3 (ipykernel)",
   "language": "python",
   "name": "python3"
  },
  "language_info": {
   "codemirror_mode": {
    "name": "ipython",
    "version": 3
   },
   "file_extension": ".py",
   "mimetype": "text/x-python",
   "name": "python",
   "nbconvert_exporter": "python",
   "pygments_lexer": "ipython3",
   "version": "3.11.0"
  },
  "vscode": {
   "interpreter": {
    "hash": "45389a7f49d4d8bdcdb5b612c30e876da93e1cc187af31636be282751cfd8de0"
   }
  }
 },
 "nbformat": 4,
 "nbformat_minor": 2
}
