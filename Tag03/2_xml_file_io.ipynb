{
 "cells": [
  {
   "cell_type": "markdown",
   "metadata": {},
   "source": [
    "# XML - Dateien\n",
    "Liegen Daten im XML format vor, empfiehlt sich die Verwendung der [etree-Bibliothek](https://docs.python.org/3/library/xml.etree.elementtree.html). "
   ]
  },
  {
   "cell_type": "code",
   "execution_count": 2,
   "metadata": {
    "scrolled": true
   },
   "outputs": [
    {
     "name": "stdout",
     "output_type": "stream",
     "text": [
      "country 'Liechtenstein'\n",
      "\trank: 1\n",
      "\tyear: 2008\n",
      "\tgdppc: 141100\n",
      "\tneighbors: Austria, Switzerland\n",
      "country 'Singapore'\n",
      "\trank: 4\n",
      "\tyear: 2011\n",
      "\tgdppc: 59900\n",
      "\tneighbors: Malaysia\n",
      "country 'Panama'\n",
      "\trank: 68\n",
      "\tyear: 2011\n",
      "\tgdppc: 13600\n",
      "\tneighbors: Costa Rica, Colombia\n",
      "SomeThingElse 'Winnie-the-pooh'\n",
      "\ttype: Bear\n",
      "\tneighbors: \n"
     ]
    }
   ],
   "source": [
    "import xml.etree.ElementTree as etree\n",
    "\n",
    "document = etree.parse('Data/country_data.xml')\n",
    "country_data = document.getroot()\n",
    "\n",
    "for country in country_data:\n",
    "    print(f\"{country.tag} '{country.attrib['name']}'\")\n",
    "    neighbors = []\n",
    "    for country_child in country:\n",
    "        if country_child.tag == 'neighbor':\n",
    "            neighbors.append(country_child.attrib['name']) # let's collect all neighbor countries names in a list            \n",
    "        else:\n",
    "            print(f\"\\t{country_child.tag}: {country_child.text}\") # print other child elements directly\n",
    "        \n",
    "    print(f\"\\tneighbors: {', '.join(neighbors)}\")"
   ]
  },
  {
   "cell_type": "markdown",
   "metadata": {},
   "source": [
    "Das DOM (Domain Objeckt Model) kann auch geändert werden und dann geschrieben. Dies wird hier kurz gezeigt. Es wäre natürlich auch möglich, das XML direkt wie eine Text-Datei schreiben. Ich persönlich brauche dies fast häufiger."
   ]
  },
  {
   "cell_type": "code",
   "execution_count": 3,
   "metadata": {},
   "outputs": [],
   "source": [
    "del country_data[3] # remove 4th element, 'SomeThingElse'\n",
    "\n",
    "# create a new entry 'NewElement' with one attribute 'name' and an sub-element 'child1\n",
    "new_element = etree.Element('NewElement')\n",
    "new_element.attrib['name'] = 'fooBar'\n",
    "child = etree.Element('child1')\n",
    "new_element.append(child)\n",
    "child.text = \"text\"\n",
    "\n",
    "country_data.append(new_element) # add the new element\n",
    "\n",
    "# make sure document is indented and line-breaks are added for the whole document\n",
    "etree.indent(document, '    ')\n",
    "\n",
    "# save the document to a file\n",
    "document.write(\"Data/.2_modified.xml\",)\n"
   ]
  }
 ],
 "metadata": {
  "kernelspec": {
   "display_name": "Python 3 (ipykernel)",
   "language": "python",
   "name": "python3"
  },
  "language_info": {
   "codemirror_mode": {
    "name": "ipython",
    "version": 3
   },
   "file_extension": ".py",
   "mimetype": "text/x-python",
   "name": "python",
   "nbconvert_exporter": "python",
   "pygments_lexer": "ipython3",
   "version": "3.11.0"
  },
  "vscode": {
   "interpreter": {
    "hash": "45389a7f49d4d8bdcdb5b612c30e876da93e1cc187af31636be282751cfd8de0"
   }
  }
 },
 "nbformat": 4,
 "nbformat_minor": 2
}
